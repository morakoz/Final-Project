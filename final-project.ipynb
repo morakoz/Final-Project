{
 "cells": [
  {
   "cell_type": "code",
   "execution_count": 2,
   "id": "49c6ac1d-cdcb-4834-85ca-d6bdf81927f6",
   "metadata": {},
   "outputs": [],
   "source": [
    "import pandas as pd"
   ]
  },
  {
   "cell_type": "code",
   "execution_count": 3,
   "id": "d6c8d2af-e304-4227-8f72-327309d00b53",
   "metadata": {},
   "outputs": [],
   "source": [
    "import matplotlib.pyplot as plt"
   ]
  },
  {
   "cell_type": "code",
   "execution_count": 4,
   "id": "6f072e0e-1f15-454e-9dd7-9759939a573b",
   "metadata": {},
   "outputs": [
    {
     "name": "stdout",
     "output_type": "stream",
     "text": [
      "   Salinity 30  Salinity 15  Salinity 5\n",
      "0         0.74         1.97        3.72\n",
      "1         0.58         1.50        2.41\n",
      "2         0.60         1.26        2.62\n"
     ]
    }
   ],
   "source": [
    "df = pd.read_csv (r'D:/my_project/oxygen-consumption.csv')\n",
    "print (df)"
   ]
  },
  {
   "cell_type": "code",
   "execution_count": null,
   "id": "97ec8e95-1682-4df1-80dd-84384a568b10",
   "metadata": {},
   "outputs": [],
   "source": [
    "# the cell above is taking the data from my csv file and displaying it in a table\n",
    "# next I will use the data to create a bar graph of the oxygen consumption rates of Hetersigma akashiwo at different salinities"
   ]
  },
  {
   "cell_type": "code",
   "execution_count": 37,
   "id": "1ec0e97f-e3f2-4c5a-bdb0-eea4127a604a",
   "metadata": {},
   "outputs": [
    {
     "data": {
      "text/plain": [
       "<AxesSubplot:title={'center':'Oxygen Consumption Rate at Different Salinities'}, xlabel='Triplicate Data'>"
      ]
     },
     "execution_count": 37,
     "metadata": {},
     "output_type": "execute_result"
    },
    {
     "data": {
      "image/png": "[encoded data removed]",
      "text/plain": [
       "<Figure size 432x288 with 1 Axes>"
      ]
     },
     "metadata": {
      "needs_background": "light"
     },
     "output_type": "display_data"
    }
   ],
   "source": [
    "df = pd.DataFrame({\n",
    "    'Triplicate Data': ['T1', 'T2', 'T3'],\n",
    "    'Salinity 30': [.74, .58, .60],\n",
    "    'Salinity 15': [1.97, 1.50, 1.26],\n",
    "    'Salinity 5': [3.72, 2.41, 2.62]\n",
    "})\n",
    "\n",
    "df.plot(x=\"Triplicate Data\", y=[\"Salinity 30\", \"Salinity 15\", \"Salinity 5\"], kind=\"bar\", title=\"Oxygen Consumption Rate at Different Salinities\")"
   ]
  },
  {
   "cell_type": "code",
   "execution_count": 15,
   "id": "bc058e5e-b726-404d-882c-80b667a21d8b",
   "metadata": {},
   "outputs": [
    {
     "name": "stdout",
     "output_type": "stream",
     "text": [
      "Salinity 30    0.640000\n",
      "Salinity 15    1.576667\n",
      "Salinity 5     2.916667\n",
      "dtype: float64\n"
     ]
    }
   ],
   "source": [
    "avgoc = df[[\"Salinity 30\",\"Salinity 15\",\"Salinity 5\"]].mean()\n",
    "print(avgoc)"
   ]
  },
  {
   "cell_type": "code",
   "execution_count": null,
   "id": "22a143aa-3e66-4a1f-9493-084cba82d1d0",
   "metadata": {},
   "outputs": [],
   "source": [
    "# i then found the average oxygen consumptions at each salinity and made a bar graph of that data"
   ]
  },
  {
   "cell_type": "code",
   "execution_count": 31,
   "id": "f473ed33-3d1f-42af-85bd-6775eda74107",
   "metadata": {},
   "outputs": [
    {
     "data": {
      "image/png": "[encoded data removed]",
      "text/plain": [
       "<Figure size 432x288 with 1 Axes>"
      ]
     },
     "metadata": {
      "needs_background": "light"
     },
     "output_type": "display_data"
    }
   ],
   "source": [
    "df = pd.DataFrame({'Salinity':['30', '15', '5'], 'avg':[.64, 1.58, 2.92]})\n",
    "avgoc = df.plot.bar(x='Salinity', y='avg', rot=0, title=\"Average Oxygen Consumption Rate\")"
   ]
  },
  {
   "cell_type": "code",
   "execution_count": 32,
   "id": "9a5b7afe-5488-4240-bbbc-a1ade8ded8e5",
   "metadata": {},
   "outputs": [
    {
     "name": "stdout",
     "output_type": "stream",
     "text": [
      "    Salinity 30   Salinity 15   Salinity 5\n",
      "0   8522.666667   7071.000000  1935.666667\n",
      "1  13291.333330   3852.666667  7477.666667\n",
      "2  11909.666670  11972.666670  2571.666667\n"
     ]
    }
   ],
   "source": [
    "cells = pd.read_csv (r'D:/my_project/cell-counts.csv')\n",
    "print (cells)"
   ]
  },
  {
   "cell_type": "code",
   "execution_count": null,
   "id": "67ca758f-4ded-4d90-b9b5-14eef845b6b1",
   "metadata": {},
   "outputs": [],
   "source": [
    "# this is the number of actually cells found in each triplicate data for each salinity which was found by using a flow cytometer\n",
    "# below I found the average cells at each salinity and made a bar graph of the results"
   ]
  },
  {
   "cell_type": "code",
   "execution_count": 34,
   "id": "9e074fb6-522c-4211-ad1e-734d8f23de24",
   "metadata": {},
   "outputs": [
    {
     "name": "stdout",
     "output_type": "stream",
     "text": [
      "Salinity 30    11241.222222\n",
      "Salinity 15     7632.111112\n",
      "Salinity 5      3995.000000\n",
      "dtype: float64\n"
     ]
    }
   ],
   "source": [
    "avgcells = cells[[\"Salinity 30\",\"Salinity 15\",\"Salinity 5\"]].mean()\n",
    "print(avgcells)"
   ]
  },
  {
   "cell_type": "code",
   "execution_count": 36,
   "id": "e224ec21-1221-49fe-b7dc-d87428a23ecf",
   "metadata": {},
   "outputs": [
    {
     "data": {
      "image/png": "[encoded data removed]",
      "text/plain": [
       "<Figure size 432x288 with 1 Axes>"
      ]
     },
     "metadata": {
      "needs_background": "light"
     },
     "output_type": "display_data"
    }
   ],
   "source": [
    "df = pd.DataFrame({'Salinity':['30', '15', '5'], 'avg':[11241, 7632, 3995]})\n",
    "avgcells = df.plot.bar(x='Salinity', y='avg', rot=0, title=\"Average Number of Cells\")"
   ]
  }
 ],
 "metadata": {
  "kernelspec": {
   "display_name": "Python 3 (ipykernel)",
   "language": "python",
   "name": "python3"
  },
  "language_info": {
   "codemirror_mode": {
    "name": "ipython",
    "version": 3
   },
   "file_extension": ".py",
   "mimetype": "text/x-python",
   "name": "python",
   "nbconvert_exporter": "python",
   "pygments_lexer": "ipython3",
   "version": "3.8.13"
  }
 },
 "nbformat": 4,
 "nbformat_minor": 5
}
